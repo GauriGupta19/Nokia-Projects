{
 "cells": [
  {
   "cell_type": "code",
   "execution_count": 4,
   "metadata": {},
   "outputs": [],
   "source": [
    "\"\"\"\n",
    "Authors: Ritvik Kapila, Gauri Gupta\n",
    "\"\"\"\n",
    "\n",
    "import xlrd \n",
    "import pandas as pd"
   ]
  },
  {
   "cell_type": "code",
   "execution_count": 8,
   "metadata": {},
   "outputs": [],
   "source": [
    "def xlsx_to_csv(input_filename, list_of_number_of_group_by_columns, output_filename):\n",
    "    wb = xlrd.open_workbook(input_filename) \n",
    "    \n",
    "    l = list_of_number_of_group_by_columns\n",
    "    col = {}\n",
    "    col['Class'] = 0\n",
    "    column_counter = 1\n",
    "\n",
    "    for i in range(len(wb.sheet_names())):\n",
    "        sheet = wb.sheet_by_index(i)\n",
    "\n",
    "        for j in range(l[i]):\n",
    "            try:\n",
    "                if(col[sheet.cell_value(1,j)]):\n",
    "                    continue\n",
    "            except KeyError:\n",
    "                col[sheet.cell_value(1,j)] = column_counter\n",
    "                column_counter += 1\n",
    "\n",
    "    col['Parameter'] = column_counter\n",
    "    column_counter += 1\n",
    "    col['Value'] = column_counter\n",
    "    n = len(col.keys())\n",
    "\n",
    "    total_rows = []\n",
    "    for i in range(len(wb.sheet_names())):\n",
    "        sheet = wb.sheet_by_index(i)\n",
    "\n",
    "        for j in range(2, sheet.nrows):\n",
    "\n",
    "            group_by_col_list = {}\n",
    "            for k in range(l[i]):\n",
    "                group_by_col_list[sheet.cell_value(1, k)] = sheet.cell_value(j, k)\n",
    "\n",
    "            group_by_row = [''] * n\n",
    "            for k in group_by_col_list:\n",
    "                group_by_row[col[k]] = group_by_col_list[k]\n",
    "\n",
    "            for k in range(l[i], sheet.ncols):\n",
    "                row = group_by_row.copy()\n",
    "                row[col['Class']] = wb.sheet_names()[i]\n",
    "                row[col['Parameter']] = sheet.cell_value(1, k)\n",
    "                row[col['Value']] = sheet.cell_value(j, k)\n",
    "                total_rows += [row]\n",
    "\n",
    "    columns = [''] * n\n",
    "    for key in col:\n",
    "        columns[col[key]] = key\n",
    "        \n",
    "    # Output\n",
    "    df = pd.DataFrame(total_rows, columns = columns)\n",
    "    df.to_csv(output_filename, index = False)\n",
    "\n"
   ]
  },
  {
   "cell_type": "code",
   "execution_count": 9,
   "metadata": {},
   "outputs": [],
   "source": [
    "# l is the number of initial columns which are taken as group by columns\n",
    "l = [5, 6, 3, 3, 5, 5, 3]\n",
    "\n",
    "xlsx_to_csv('xml_dump_in_XL.xlsx', l, 'result.csv')"
   ]
  }
 ],
 "metadata": {
  "kernelspec": {
   "display_name": "Python 3",
   "language": "python",
   "name": "python3"
  },
  "language_info": {
   "codemirror_mode": {
    "name": "ipython",
    "version": 3
   },
   "file_extension": ".py",
   "mimetype": "text/x-python",
   "name": "python",
   "nbconvert_exporter": "python",
   "pygments_lexer": "ipython3",
   "version": "3.7.4"
  }
 },
 "nbformat": 4,
 "nbformat_minor": 2
}
