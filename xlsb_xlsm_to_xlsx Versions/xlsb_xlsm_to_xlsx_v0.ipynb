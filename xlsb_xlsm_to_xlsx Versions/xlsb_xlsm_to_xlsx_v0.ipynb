{
 "cells": [
  {
   "cell_type": "code",
   "execution_count": 1,
   "metadata": {},
   "outputs": [],
   "source": [
    "\"\"\"\n",
    "Authors: Ritvik Kapila, Gauri Gupta\n",
    "\"\"\"\n",
    "\n",
    "# You will need to install python xlsb library and update pandas, if not already done, on or after 29 January, using the following command for reading xlsb files"
   ]
  },
  {
   "cell_type": "code",
   "execution_count": 1,
   "metadata": {},
   "outputs": [
    {
     "name": "stdout",
     "output_type": "stream",
     "text": [
      "Collecting pandas\n",
      "  Downloading https://files.pythonhosted.org/packages/da/90/44d5e0a5d42506d2e31544c8f44c54be88c2128f6fc482c01de29ecfb365/pandas-1.0.5-cp37-cp37m-win_amd64.whl (8.7MB)\n",
      "Requirement already satisfied, skipping upgrade: python-dateutil>=2.6.1 in c:\\users\\asus\\anaconda3\\lib\\site-packages (from pandas) (2.8.0)\n",
      "Requirement already satisfied, skipping upgrade: numpy>=1.13.3 in c:\\users\\asus\\anaconda3\\lib\\site-packages (from pandas) (1.16.5)\n",
      "Requirement already satisfied, skipping upgrade: pytz>=2017.2 in c:\\users\\asus\\anaconda3\\lib\\site-packages (from pandas) (2019.3)\n",
      "Requirement already satisfied, skipping upgrade: six>=1.5 in c:\\users\\asus\\anaconda3\\lib\\site-packages (from python-dateutil>=2.6.1->pandas) (1.12.0)\n",
      "Installing collected packages: pandas\n",
      "  Found existing installation: pandas 1.0.3\n",
      "    Uninstalling pandas-1.0.3:\n",
      "      Successfully uninstalled pandas-1.0.3\n",
      "Successfully installed pandas-1.0.5\n",
      "Note: you may need to restart the kernel to use updated packages.\n"
     ]
    }
   ],
   "source": [
    "pip install pandas --upgrade"
   ]
  },
  {
   "cell_type": "code",
   "execution_count": 2,
   "metadata": {},
   "outputs": [
    {
     "name": "stdout",
     "output_type": "stream",
     "text": [
      "Requirement already satisfied: pyxlsb in c:\\users\\asus\\anaconda3\\lib\\site-packages (1.0.6)\n",
      "Note: you may need to restart the kernel to use updated packages.\n"
     ]
    }
   ],
   "source": [
    "pip install pyxlsb"
   ]
  },
  {
   "cell_type": "code",
   "execution_count": 4,
   "metadata": {},
   "outputs": [],
   "source": [
    "# Now continue with the code after updation"
   ]
  },
  {
   "cell_type": "code",
   "execution_count": 5,
   "metadata": {},
   "outputs": [],
   "source": [
    "import pandas as pd"
   ]
  },
  {
   "cell_type": "code",
   "execution_count": 6,
   "metadata": {},
   "outputs": [],
   "source": [
    "# For reading xlsb file\n",
    "\n",
    "# dfs = pd.read_excel('Nokia_test.xlsb', engine = 'pyxlsb', sheet_name = None)"
   ]
  },
  {
   "cell_type": "code",
   "execution_count": 7,
   "metadata": {},
   "outputs": [],
   "source": [
    "# For reading xlsm file\n",
    "\n",
    "# dfs = pd.read_excel('Nokia_test.xlsm', sheet_name = None)"
   ]
  },
  {
   "cell_type": "code",
   "execution_count": 8,
   "metadata": {},
   "outputs": [
    {
     "data": {
      "text/plain": [
       "{'Summary':         KPI    Category                      Counter  \\\n",
       " 0    CS RRC        Main    pmnofailedrrcconnectreqhw   \n",
       " 1    CS RRC        Main  pmNoFailedRrcConnectReqCsHw   \n",
       " 2    CS RRC        Main                DeniedAdmUlHw   \n",
       " 3    CS RRC        Main                DeniedAdmDlHw   \n",
       " 4    CS RRC        Main               DeniedAdmDlPwr   \n",
       " ..      ...         ...                          ...   \n",
       " 72  All KPI  Additional                     Downtime   \n",
       " 73  All KPI  Additional               PRACH counters   \n",
       " 74  All KPI  Additional                   WMRR- RSCP   \n",
       " 75  All KPI  Additional                   WMRR- Ecio   \n",
       " 76  All KPI  Additional                         WNCS   \n",
       " \n",
       "                                              Criteria  Desired Output  \n",
       " 0                                                Null             NaN  \n",
       " 1                                                Null             NaN  \n",
       " 2                                                Null             NaN  \n",
       " 3                                                Null             NaN  \n",
       " 4                                                Null             NaN  \n",
       " ..                                                ...             ...  \n",
       " 72                                                 >0             NaN  \n",
       " 73  Consider \"[Nearest Site distance]\" from KPI sh...             NaN  \n",
       " 74  Sum up total samples and create 3 catergory % ...             NaN  \n",
       " 75  Sum up total samples and create 4 catergory % ...             NaN  \n",
       " 76  For each unique cell name we should sort heade...             NaN  \n",
       " \n",
       " [77 rows x 5 columns],\n",
       " 'PRACH mapping':        Bin         1                 2                 3                 4  \\\n",
       " 0  Mapping  <0.35 KM  0.35 - 0.70 (Km)  0.70 - 1.05 (Km)  1.05 - 1.41 (Km)   \n",
       " \n",
       "                   5                 6                 7                 8  \\\n",
       " 0  1.41 - 1.76 (Km)  1.76 - 2.11 (Km)  2.11 - 2.46 (Km)  2.46 - 2.81 (Km)   \n",
       " \n",
       "                   9  ...                  31                  32  \\\n",
       " 0  2.81 - 3.16 (Km)  ...  22.50 - 23.91 (Km)  23.91 - 25.31 (Km)   \n",
       " \n",
       "                    33                  34                  35  \\\n",
       " 0  25.31 - 26.72 (Km)  26.72 - 28.13 (Km)  28.13 - 29.53 (Km)   \n",
       " \n",
       "                    36                  37                  38  \\\n",
       " 0  29.53 - 30.94 (Km)  30.94 - 32.34 (Km)  32.34 - 33.75 (Km)   \n",
       " \n",
       "                    39                  40  \n",
       " 0  33.75 - 35.16 (Km)  35.16 - 36.57 (Km)  \n",
       " \n",
       " [1 rows x 41 columns],\n",
       " 'WMRR':             Bin      Bin0       Bin1      Bin2       Bin3      Bin4     Bin5  \\\n",
       " 0  Ecio Mapping   inf--22    -22--20   -20--18    -18--16   -16--14  -14--12   \n",
       " 1           NaN       NaN        NaN       NaN        NaN       NaN      NaN   \n",
       " 2           NaN       NaN        NaN       NaN        NaN       NaN      NaN   \n",
       " 3           NaN       NaN        NaN       NaN        NaN       NaN      NaN   \n",
       " 4           Bin      Bin0       Bin1      Bin2       Bin3      Bin4     Bin5   \n",
       " 5  RSCP Mapping  inf--115  -115--111  -111-107  -107--103  -103--99  -99--95   \n",
       " \n",
       "       Bin6     Bin7     Bin8     Bin9    Bin10    Bin11 Unnamed: 13  \\\n",
       " 0  -12--10   -10--8    -8--6    -6--4    -4--2    -2--0         NaN   \n",
       " 1      NaN      NaN      NaN      NaN      NaN      NaN         NaN   \n",
       " 2      NaN      NaN      NaN      NaN      NaN      NaN         NaN   \n",
       " 3      NaN      NaN      NaN      NaN      NaN      NaN         NaN   \n",
       " 4     Bin6     Bin7     Bin8     Bin9    Bin10    Bin11       Bin12   \n",
       " 5  -95--91  -91--87  -87--83  -83--79  -79--75  -75--71     -71--67   \n",
       " \n",
       "   Unnamed: 14 Unnamed: 15 Unnamed: 16 Unnamed: 17  \n",
       " 0         NaN         NaN         NaN         NaN  \n",
       " 1         NaN         NaN         NaN         NaN  \n",
       " 2         NaN         NaN         NaN         NaN  \n",
       " 3         NaN         NaN         NaN         NaN  \n",
       " 4       Bin13       Bin14       Bin15       Bin16  \n",
       " 5     -67--63     -63--59     -59--55   -55--infi  ,\n",
       " 'WNCS': Empty DataFrame\n",
       " Columns: [Unnamed: 0, CellName, NbCellName, SC, Frequency, NbType, numberOfDetections, radioLinkAdditionAttempts, timeInActiveSet, numberOfEvents, numberOfDrops, successfulRLAdditions, failedRLAdditions, operationalState, selectionPriority, averageCPICHEcNo, averageRSCP, servingCellUserLabel, neighbourCellUserLabel, distance]\n",
       " Index: []}"
      ]
     },
     "execution_count": 8,
     "metadata": {},
     "output_type": "execute_result"
    }
   ],
   "source": [
    "dfs"
   ]
  },
  {
   "cell_type": "code",
   "execution_count": 9,
   "metadata": {},
   "outputs": [],
   "source": [
    "# Opens the output file for writing\n",
    "\n",
    "writer = pd.ExcelWriter('out11.xlsx', engine = 'xlsxwriter')"
   ]
  },
  {
   "cell_type": "code",
   "execution_count": 10,
   "metadata": {},
   "outputs": [],
   "source": [
    "# Writing the data from the dictionary onto the excel sheet\n",
    "\n",
    "for sheet_name in dfs.keys():\n",
    "    dfs[sheet_name].to_excel(writer, sheet_name = sheet_name, index = False)\n",
    "    \n",
    "writer.save()    "
   ]
  }
 ],
 "metadata": {
  "kernelspec": {
   "display_name": "Python 3",
   "language": "python",
   "name": "python3"
  },
  "language_info": {
   "codemirror_mode": {
    "name": "ipython",
    "version": 3
   },
   "file_extension": ".py",
   "mimetype": "text/x-python",
   "name": "python",
   "nbconvert_exporter": "python",
   "pygments_lexer": "ipython3",
   "version": "3.7.4"
  }
 },
 "nbformat": 4,
 "nbformat_minor": 2
}
