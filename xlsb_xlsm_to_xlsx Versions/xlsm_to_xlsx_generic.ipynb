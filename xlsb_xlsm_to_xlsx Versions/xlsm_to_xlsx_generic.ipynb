{
 "cells": [
  {
   "cell_type": "code",
   "execution_count": 1,
   "metadata": {},
   "outputs": [],
   "source": [
    "\"\"\"\n",
    "Authors: Ritvik Kapila, Gauri Gupta\n",
    "\"\"\"\n",
    "\n",
    "import xlrd \n",
    "import pandas as pd"
   ]
  },
  {
   "cell_type": "code",
   "execution_count": 2,
   "metadata": {},
   "outputs": [],
   "source": [
    "def xlsm_to_xlsx(input_filename, output_filename):\n",
    "    wb = xlrd.open_workbook(input_filename)\n",
    "\n",
    "    n_sheets = len(wb.sheet_names())\n",
    "    dfs = {}\n",
    "\n",
    "    for i in range(n_sheets):\n",
    "\n",
    "        sheet = wb.sheet_by_index(i)\n",
    "\n",
    "        print('Number of Columns in ' + wb.sheet_names()[i] + ': ' + str(sheet.ncols))\n",
    "        print('Number of Rows in ' + wb.sheet_names()[i] + ': ' + str(sheet.nrows))\n",
    "\n",
    "        n_rows = sheet.nrows\n",
    "        n_cols = sheet.ncols\n",
    "\n",
    "        total_rows = []\n",
    "\n",
    "        row = [''] * n_cols\n",
    "\n",
    "        for j in range(n_rows):\n",
    "            temprow = row.copy()\n",
    "            for k in range(n_cols):\n",
    "                temprow[k] = sheet.cell_value(j, k)\n",
    "            total_rows += [temprow]\n",
    "\n",
    "        dfs[wb.sheet_names()[i]] = pd.DataFrame(total_rows)\n",
    "\n",
    "    print('Writing the content to an excel file.....')\n",
    "\n",
    "#     Writing the dictionary of dataframes to excel\n",
    "    writer = pd.ExcelWriter(output_filename + '.xlsx', engine = 'xlsxwriter')\n",
    "    for sheet_name in dfs.keys():\n",
    "        dfs[sheet_name].to_excel(writer, sheet_name = sheet_name, index = False, header = None)\n",
    "    writer.save()     "
   ]
  },
  {
   "cell_type": "code",
   "execution_count": 3,
   "metadata": {},
   "outputs": [
    {
     "name": "stdout",
     "output_type": "stream",
     "text": [
      "Number of Columns in Main_Macro: 0\n",
      "Number of Rows in Main_Macro: 0\n",
      "Number of Columns in Revisions: 2\n",
      "Number of Rows in Revisions: 10\n",
      "Number of Columns in Main_Page: 20\n",
      "Number of Rows in Main_Page: 35\n",
      "Number of Columns in DefaultValues: 8\n",
      "Number of Rows in DefaultValues: 711\n",
      "Number of Columns in LNCEL: 251\n",
      "Number of Rows in LNCEL: 1919\n",
      "Number of Columns in LNCEL-2: 256\n",
      "Number of Rows in LNCEL-2: 1919\n",
      "Number of Columns in LNCEL-3: 71\n",
      "Number of Rows in LNCEL-3: 1919\n",
      "Writing the content to an excel file.....\n"
     ]
    }
   ],
   "source": [
    "xlsm_to_xlsx('Use Case\\LTE XML Parser ver 2 0 3_VZ Version_(16_1_2017)_Vahid-Post Check.xlsm', 'output')"
   ]
  }
 ],
 "metadata": {
  "kernelspec": {
   "display_name": "Python 3",
   "language": "python",
   "name": "python3"
  },
  "language_info": {
   "codemirror_mode": {
    "name": "ipython",
    "version": 3
   },
   "file_extension": ".py",
   "mimetype": "text/x-python",
   "name": "python",
   "nbconvert_exporter": "python",
   "pygments_lexer": "ipython3",
   "version": "3.7.4"
  }
 },
 "nbformat": 4,
 "nbformat_minor": 2
}
