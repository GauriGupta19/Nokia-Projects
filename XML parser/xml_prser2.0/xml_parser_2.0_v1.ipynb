{
 "cells": [
  {
   "cell_type": "code",
   "execution_count": 1,
   "metadata": {},
   "outputs": [],
   "source": [
    "\"\"\"\n",
    "Authors: Ritvik Kapila, Gauri Gupta\n",
    "\"\"\"\n",
    "\n",
    "import pandas as pd \n",
    "import numpy as np\n",
    "import xml.etree.ElementTree as etree\n",
    "import sys"
   ]
  },
  {
   "cell_type": "code",
   "execution_count": 2,
   "metadata": {},
   "outputs": [],
   "source": [
    "def total_entries(node):\n",
    "    count = 0\n",
    "    for i in range(sys.maxsize):\n",
    "        try:\n",
    "            node[i]\n",
    "            count += 1\n",
    "        except:\n",
    "            return count"
   ]
  },
  {
   "cell_type": "code",
   "execution_count": 3,
   "metadata": {},
   "outputs": [],
   "source": [
    "def xml_parser(input_file, output_file, pre_name, class_list):\n",
    "    tree = etree.parse(input_file)\n",
    "    root = tree.getroot()\n",
    "    columns = ['Class', 'distName', 'Version', 'List', 'Item', 'Parameter', 'Value']\n",
    "    total_rows = []\n",
    "    \n",
    "    dictionary = {}\n",
    "    for i in range(len(class_list)):\n",
    "        dictionary[class_list[i]] = i\n",
    "    \n",
    "    for i in range(sys.maxsize):\n",
    "        try:\n",
    "            if i==0: continue\n",
    "            else:\n",
    "                currNode = root[0][i]\n",
    "                if dictionary!={} and dictionary.get(currNode.attrib['class']) == None :\n",
    "                    continue\n",
    "                else:\n",
    "                    values = []\n",
    "                    values += [currNode.attrib['class']]\n",
    "                    values += [currNode.attrib['distName']]\n",
    "                    values += [currNode.attrib['version']]\n",
    "                    for j in range(sys.maxsize):\n",
    "                        try:\n",
    "                            s = currNode[j].tag\n",
    "                            if(s[-1] == 'p'):\n",
    "                                values1 = values + ['', '']\n",
    "                                row = []\n",
    "                                row += values1 + [currNode[j].attrib['name']] + [currNode[j].text]\n",
    "                                total_rows += [row]\n",
    "                            elif (s[-4:] == 'list' ):\n",
    "                                node = currNode[j]\n",
    "                                for k in range(sys.maxsize):\n",
    "                                    try:\n",
    "                                        if(node[k].tag[-4:]=='item'):\n",
    "                                            values1 = values + [node.attrib['name']]+ ['item'+str(k+1)]\n",
    "                                            for l in range(sys.maxsize):\n",
    "                                                try:\n",
    "                                                    row = []\n",
    "                                                    row += values1 + [node[k][l].attrib['name']] + [node[k][l].text]\n",
    "                                                    total_rows += [row]\n",
    "                                                except IndexError:\n",
    "                                                    break\n",
    "                                        else:\n",
    "                                            values1 = values+ [node.attrib['name'], pre_name, '']\n",
    "                                            row = []\n",
    "                                            row += values1 + [node[k].text]\n",
    "                                            total_rows += [row]\n",
    "                                    except IndexError:\n",
    "                                        break\n",
    "                        except IndexError:\n",
    "                            break\n",
    "\n",
    "        except IndexError:\n",
    "            break\n",
    "    df = pd.DataFrame(total_rows, columns = columns)\n",
    "    df\n",
    "    df.to_csv(output_file, index = False)"
   ]
  },
  {
   "cell_type": "code",
   "execution_count": 4,
   "metadata": {},
   "outputs": [],
   "source": [
    "xml_parser('TEST_Configuration_scf.xml', 'out_new_NET.csv', 'PRE', [])"
   ]
  },
  {
   "cell_type": "code",
   "execution_count": null,
   "metadata": {},
   "outputs": [],
   "source": []
  }
 ],
 "metadata": {
  "kernelspec": {
   "display_name": "Python 3",
   "language": "python",
   "name": "python3"
  },
  "language_info": {
   "codemirror_mode": {
    "name": "ipython",
    "version": 3
   },
   "file_extension": ".py",
   "mimetype": "text/x-python",
   "name": "python",
   "nbconvert_exporter": "python",
   "pygments_lexer": "ipython3",
   "version": "3.7.4"
  }
 },
 "nbformat": 4,
 "nbformat_minor": 2
}
