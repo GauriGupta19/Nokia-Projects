{
 "cells": [
  {
   "cell_type": "code",
   "execution_count": 1,
   "metadata": {},
   "outputs": [],
   "source": [
    "\"\"\"\n",
    "Authors: Ritvik Kapila, Gauri Gupta\n",
    "\"\"\"\n",
    "\n",
    "import pandas as pd \n",
    "import numpy as np\n",
    "import xml.etree.ElementTree as etree\n",
    "import sys"
   ]
  },
  {
   "cell_type": "code",
   "execution_count": 2,
   "metadata": {},
   "outputs": [],
   "source": [
    "# Reading the xml as a tree object\n",
    "\n",
    "tree = etree.parse(\"test1_xml.xml\")\n",
    "root = tree.getroot()"
   ]
  },
  {
   "cell_type": "code",
   "execution_count": 3,
   "metadata": {},
   "outputs": [
    {
     "name": "stdout",
     "output_type": "stream",
     "text": [
      "{raml21.xsd}cmData \n",
      " {'type': 'actual', 'scope': 'all'} \n",
      " \n",
      "    \n"
     ]
    }
   ],
   "source": [
    "FirstObj = root[0]\n",
    "print(FirstObj.tag, \"\\n\", FirstObj.attrib, \"\\n\", FirstObj.text)"
   ]
  },
  {
   "cell_type": "code",
   "execution_count": 4,
   "metadata": {},
   "outputs": [],
   "source": [
    "# Counting the number of children of a given node\n",
    "\n",
    "def total_entries(node):\n",
    "    count = 0\n",
    "    for i in range(sys.maxsize):\n",
    "        try:\n",
    "            node[i]\n",
    "            count += 1\n",
    "        except:\n",
    "            return count \n",
    "    "
   ]
  },
  {
   "cell_type": "code",
   "execution_count": 5,
   "metadata": {},
   "outputs": [
    {
     "data": {
      "text/plain": [
       "{'name': 'moduleLocation'}"
      ]
     },
     "execution_count": 5,
     "metadata": {},
     "output_type": "execute_result"
    }
   ],
   "source": [
    "total_entries(root[0][1])\n",
    "root[0][1][0].attrib"
   ]
  },
  {
   "cell_type": "code",
   "execution_count": 6,
   "metadata": {},
   "outputs": [
    {
     "data": {
      "text/plain": [
       "False"
      ]
     },
     "execution_count": 6,
     "metadata": {},
     "output_type": "execute_result"
    }
   ],
   "source": [
    "s = \"01234\"\n",
    "s[0] \n",
    "s + \"1\"\n",
    "not(True)"
   ]
  },
  {
   "cell_type": "code",
   "execution_count": 7,
   "metadata": {},
   "outputs": [
    {
     "data": {
      "text/plain": [
       "'1234_56____9'"
      ]
     },
     "execution_count": 7,
     "metadata": {},
     "output_type": "execute_result"
    }
   ],
   "source": [
    "def column_name(s):\n",
    "    news = \"\"\n",
    "    for i in range(len(s)):\n",
    "        if not(s[i] == ']' or s[i] == '[' or s[i] == ':' or s[i] == '*' or s[i] == '?' or s[i] == '/'):\n",
    "            news = news + s[i]\n",
    "        else:\n",
    "            news = news + \"_\"\n",
    "    return news\n",
    "\n",
    "s1 = \"1234:56**??9\"\n",
    "column_name(s1)"
   ]
  },
  {
   "cell_type": "code",
   "execution_count": 32,
   "metadata": {},
   "outputs": [],
   "source": [
    "def excel_name(d):\n",
    "    count = 1\n",
    "    newd = {}\n",
    "    for i in d:\n",
    "        if len(i)>29:\n",
    "            newi = i[:29] + str(count)\n",
    "            count = count + 1\n",
    "            newd[newi] = d[i]\n",
    "        else :\n",
    "            newd[i] = d[i]\n",
    "    return newd"
   ]
  },
  {
   "cell_type": "code",
   "execution_count": 33,
   "metadata": {},
   "outputs": [
    {
     "data": {
      "text/plain": [
       "{'abcdefghijklmnopqrstuvwxyzabcdefgh': 1,\n",
       " 'adef': 2,\n",
       " 'abcdefghijklmnopqrstuvwxyzabcdefghijklm': 3,\n",
       " 'new': 10}"
      ]
     },
     "execution_count": 33,
     "metadata": {},
     "output_type": "execute_result"
    }
   ],
   "source": [
    "d = {'abcdefghijklmnopqrstuvwxyzabcdefgh': 1, 'adef': 2, 'abcdefghijklmnopqrstuvwxyzabcdefghijklm': 3}\n",
    "excel_name(d)\n",
    "for i in d:\n",
    "    i = '1'\n",
    "d['new'] = 10\n",
    "d"
   ]
  },
  {
   "cell_type": "code",
   "execution_count": 34,
   "metadata": {},
   "outputs": [],
   "source": [
    "# This function combines the data in child nodes of the list attributes and outputs a list\n",
    "\n",
    "def entry_list(node):\n",
    "    if node[0].text != \"\\n          \":\n",
    "        l = []\n",
    "        for i in range(total_entries(node)):\n",
    "            l = l + [(node[i].text)]\n",
    "        return l  \n",
    "    else:\n",
    "        return entry_list(node[0])\n",
    "\n",
    "\n"
   ]
  },
  {
   "cell_type": "code",
   "execution_count": 35,
   "metadata": {},
   "outputs": [],
   "source": [
    "# entry_list(root[0][1][5])"
   ]
  },
  {
   "cell_type": "code",
   "execution_count": 36,
   "metadata": {},
   "outputs": [],
   "source": [
    "# Converts the entire xml document to a dictionary containing different dataframes for each class with keys as class names\n",
    "\n",
    "def data_xml(root):\n",
    "    \n",
    "#     Creating the dictionary format\n",
    "    keyList = []\n",
    "    n = total_entries(root[0])\n",
    "    for i in range(n):\n",
    "        if i>0:\n",
    "#             print(root[0][i].tag, \"\\n\", root[0][i].attrib, \"\\n\", root[0][i].text)\n",
    "            keyList = keyList + [column_name(root[0][i].attrib['class'])]\n",
    "    dictionary = {}\n",
    "    for i in keyList: \n",
    "        dictionary[i] = 'None'\n",
    "    print(dictionary) \n",
    "    \n",
    "#     Adding data to the dictionary\n",
    "    for i in range(n):\n",
    "        if i>0:\n",
    "            currNode = root[0][i]\n",
    "            try:    \n",
    "                if dictionary[column_name(currNode.attrib['class'])] == 'None':\n",
    "                    print('empty' + currNode.attrib['class'])\n",
    "                    columns = ['operation', 'version', 'distName']\n",
    "                    values = [currNode.attrib['operation'], currNode.attrib['version'], currNode.attrib['distName']]\n",
    "\n",
    "                    for j in range(total_entries(root[0][i])):\n",
    "#                         print('yes')\n",
    "                        if(currNode[j].tag == 'p' or currNode[j].tag == '{raml21.xsd}p'):\n",
    "                            columns = columns + [currNode[j].attrib['name']]\n",
    "                            values = values + [currNode[j].text]\n",
    "                        elif (currNode[j].tag == 'list' or currNode[j].tag == '{raml21.xsd}list'):\n",
    "                            columns = columns + [currNode[j].attrib['name']]\n",
    "                            values = values + [entry_list(currNode[j])]\n",
    "\n",
    "\n",
    "\n",
    "\n",
    "                    df = pd.DataFrame([values], columns = columns)\n",
    "                    dictionary[column_name(currNode.attrib['class'])] = df\n",
    "#                     print(total_entries(currNode)) \n",
    "                    print((dictionary))\n",
    "            except:\n",
    "                print('filled' + root[0][i].attrib['class'])\n",
    "            \n",
    "                columns = ['operation', 'version', 'distName']\n",
    "                values = [currNode.attrib['operation'], currNode.attrib['version'], currNode.attrib['distName']]\n",
    "                \n",
    "                for j in range(total_entries(root[0][i])):\n",
    "                    if(currNode[j].tag == 'p' or currNode[j].tag == '{raml21.xsd}p'):\n",
    "                        columns = columns + [currNode[j].attrib['name']]\n",
    "                        values = values + [currNode[j].text]\n",
    "                    elif (currNode[j].tag == 'list' or currNode[j].tag == '{raml21.xsd}list'):\n",
    "                        columns = columns + [currNode[j].attrib['name']]\n",
    "                        values = values + [entry_list(currNode[j])]\n",
    "                \n",
    "                                          \n",
    "                                          \n",
    "                                          \n",
    "                df = pd.DataFrame([values], columns = columns)\n",
    "                dictionary[column_name(currNode.attrib['class'])] = dictionary[column_name(currNode.attrib['class'])].append(df)\n",
    "                print(total_entries(currNode)) \n",
    "                print((dictionary))\n",
    "    return excel_name(dictionary)"
   ]
  },
  {
   "cell_type": "code",
   "execution_count": 37,
   "metadata": {},
   "outputs": [
    {
     "name": "stdout",
     "output_type": "stream",
     "text": [
      "{'RMODRMODRMODRMODRMODRMODRMODRMODRMODRMOD': 'None', 'LCELC': 'None', 'SCTP': 'None'}\n",
      "emptyRMODRMODRMODRMODRMODRMODRMODRMODRMODRMOD\n",
      "{'RMODRMODRMODRMODRMODRMODRMODRMODRMODRMOD':   operation version                                     distName  \\\n",
      "0      auto    GF18  PLMN-PLMN/BSC-398435/BCF-984/MRBTS-1/RMOD-1   \n",
      "\n",
      "  moduleLocation hwType       serNum prodCode mcpaPower connectionList  \n",
      "0           FSMF   FBRM  EA163811218  473439A        80      [1, 1, 1]  , 'LCELC': 'None', 'SCTP': 'None'}\n",
      "emptyLCELC\n",
      "{'RMODRMODRMODRMODRMODRMODRMODRMODRMODRMOD':   operation version                                     distName  \\\n",
      "0      auto    GF18  PLMN-PLMN/BSC-398435/BCF-984/MRBTS-1/RMOD-1   \n",
      "\n",
      "  moduleLocation hwType       serNum prodCode mcpaPower connectionList  \n",
      "0           FSMF   FBRM  EA163811218  473439A        80      [1, 1, 1]  , 'LCELC':   operation version                                           distName  \\\n",
      "0      auto    GF18  PLMN-PLMN/BSC-398435/BCF-984/MRBTS-1/BTSSCC-1/...   \n",
      "\n",
      "  anchorNodeId txPowerPooling perTrxPower resourceList  \n",
      "0            0       Disabled        42.0          [1]  , 'SCTP': 'None'}\n",
      "filledLCELC\n",
      "4\n",
      "{'RMODRMODRMODRMODRMODRMODRMODRMODRMODRMOD':   operation version                                     distName  \\\n",
      "0      auto    GF18  PLMN-PLMN/BSC-398435/BCF-984/MRBTS-1/RMOD-1   \n",
      "\n",
      "  moduleLocation hwType       serNum prodCode mcpaPower connectionList  \n",
      "0           FSMF   FBRM  EA163811218  473439A        80      [1, 1, 1]  , 'LCELC':   operation version                                           distName  \\\n",
      "0      auto    GF18  PLMN-PLMN/BSC-398435/BCF-984/MRBTS-1/BTSSCC-1/...   \n",
      "0      auto    GF18  PLMN-PLMN/BSC-398435/BCF-984/MRBTS-1/BTSSCC-1/...   \n",
      "\n",
      "  anchorNodeId txPowerPooling perTrxPower resourceList  \n",
      "0            0       Disabled        42.0          [1]  \n",
      "0            0        Enabled        43.0          [2]  , 'SCTP': 'None'}\n",
      "filledLCELC\n",
      "4\n",
      "{'RMODRMODRMODRMODRMODRMODRMODRMODRMODRMOD':   operation version                                     distName  \\\n",
      "0      auto    GF18  PLMN-PLMN/BSC-398435/BCF-984/MRBTS-1/RMOD-1   \n",
      "\n",
      "  moduleLocation hwType       serNum prodCode mcpaPower connectionList  \n",
      "0           FSMF   FBRM  EA163811218  473439A        80      [1, 1, 1]  , 'LCELC':   operation version                                           distName  \\\n",
      "0      auto    GF18  PLMN-PLMN/BSC-398435/BCF-984/MRBTS-1/BTSSCC-1/...   \n",
      "0      auto    GF18  PLMN-PLMN/BSC-398435/BCF-984/MRBTS-1/BTSSCC-1/...   \n",
      "0      auto    GF18  PLMN-PLMN/BSC-398435/BCF-984/MRBTS-1/BTSSCC-1/...   \n",
      "\n",
      "  anchorNodeId txPowerPooling perTrxPower resourceList  \n",
      "0            0       Disabled        42.0          [1]  \n",
      "0            0        Enabled        43.0          [2]  \n",
      "0            0       Disabled        42.0          [3]  , 'SCTP': 'None'}\n",
      "emptySCTP\n",
      "{'RMODRMODRMODRMODRMODRMODRMODRMODRMODRMOD':   operation version                                     distName  \\\n",
      "0      auto    GF18  PLMN-PLMN/BSC-398435/BCF-984/MRBTS-1/RMOD-1   \n",
      "\n",
      "  moduleLocation hwType       serNum prodCode mcpaPower connectionList  \n",
      "0           FSMF   FBRM  EA163811218  473439A        80      [1, 1, 1]  , 'LCELC':   operation version                                           distName  \\\n",
      "0      auto    GF18  PLMN-PLMN/BSC-398435/BCF-984/MRBTS-1/BTSSCC-1/...   \n",
      "0      auto    GF18  PLMN-PLMN/BSC-398435/BCF-984/MRBTS-1/BTSSCC-1/...   \n",
      "0      auto    GF18  PLMN-PLMN/BSC-398435/BCF-984/MRBTS-1/BTSSCC-1/...   \n",
      "\n",
      "  anchorNodeId txPowerPooling perTrxPower resourceList  \n",
      "0            0       Disabled        42.0          [1]  \n",
      "0            0        Enabled        43.0          [2]  \n",
      "0            0       Disabled        42.0          [3]  , 'SCTP':   operation version                                           distName minRTO  \\\n",
      "0      auto    GF18  PLMN-PLMN/BSC-398435/BCF-984/MRBTS-1/BTSSCC-1/...    150   \n",
      "\n",
      "  maxRTO initRTO periodSACK hbInterval maxRetransPath maxRetransAssoc  \\\n",
      "0    400     200        120       1000              4               5   \n",
      "\n",
      "  minSctpPort ackTimerIUA bundlingEnabled  \n",
      "0       49152           4            true  }\n"
     ]
    }
   ],
   "source": [
    "dfs = data_xml(root)"
   ]
  },
  {
   "cell_type": "code",
   "execution_count": 38,
   "metadata": {},
   "outputs": [],
   "source": [
    "# Opens the output file for writing\n",
    "\n",
    "writer = pd.ExcelWriter('out1_xml.xlsx', engine = 'xlsxwriter')"
   ]
  },
  {
   "cell_type": "code",
   "execution_count": 39,
   "metadata": {},
   "outputs": [],
   "source": [
    "# Writing the data from the dictionary onto the excel sheet\n",
    "\n",
    "for sheet_name in dfs.keys():\n",
    "    dfs[sheet_name].to_excel(writer, sheet_name = sheet_name, index = False)\n",
    "    \n",
    "writer.save()"
   ]
  },
  {
   "cell_type": "code",
   "execution_count": null,
   "metadata": {},
   "outputs": [],
   "source": [
    "root"
   ]
  }
 ],
 "metadata": {
  "kernelspec": {
   "display_name": "Python 3",
   "language": "python",
   "name": "python3"
  },
  "language_info": {
   "codemirror_mode": {
    "name": "ipython",
    "version": 3
   },
   "file_extension": ".py",
   "mimetype": "text/x-python",
   "name": "python",
   "nbconvert_exporter": "python",
   "pygments_lexer": "ipython3",
   "version": "3.7.4"
  }
 },
 "nbformat": 4,
 "nbformat_minor": 2
}
