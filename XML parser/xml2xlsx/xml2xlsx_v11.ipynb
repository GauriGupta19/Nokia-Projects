{
 "cells": [
  {
   "cell_type": "code",
   "execution_count": 2,
   "metadata": {},
   "outputs": [],
   "source": [
    "\"\"\"\n",
    "Authors: Ritvik Kapila, Gauri Gupta\n",
    "\"\"\"\n",
    "import pandas as pd \n",
    "import numpy as np\n",
    "import xml.etree.ElementTree as etree\n",
    "import sys"
   ]
  },
  {
   "cell_type": "code",
   "execution_count": 3,
   "metadata": {},
   "outputs": [],
   "source": [
    "# Counting the number of children of a given node\n",
    "\n",
    "def total_entries(node):\n",
    "    count = 0\n",
    "    for i in range(sys.maxsize):\n",
    "        try:\n",
    "            node[i]\n",
    "            count += 1\n",
    "        except:\n",
    "            return count "
   ]
  },
  {
   "cell_type": "code",
   "execution_count": 4,
   "metadata": {},
   "outputs": [],
   "source": [
    "# Removing unsupported characters from the sheet names in excel\n",
    "\n",
    "def column_name(s):\n",
    "    s1 = \"\"\n",
    "    for i in range(len(s)):\n",
    "        if not(s[i] == ']' or s[i] == '[' or s[i] == ':' or s[i] == '*' or s[i] == '?' or s[i] == '/'):\n",
    "            s1 = s1 + s[i]\n",
    "        else:\n",
    "            s1 = s1 + \"_\"\n",
    "    return s1"
   ]
  },
  {
   "cell_type": "code",
   "execution_count": 5,
   "metadata": {},
   "outputs": [],
   "source": [
    "# Renaming excel sheet if the name exceeds given characters \n",
    "\n",
    "def excel_name(d):\n",
    "    count = 1\n",
    "    d1 = {}\n",
    "    for i in d:\n",
    "        if len(i)>29:\n",
    "            i1 = i[:29] + str(count)\n",
    "            count = count + 1\n",
    "            d1[i1] = d[i]\n",
    "        else :\n",
    "            d1[i] = d[i]\n",
    "    return d1"
   ]
  },
  {
   "cell_type": "code",
   "execution_count": 6,
   "metadata": {},
   "outputs": [],
   "source": [
    "# This function combines the data in child nodes of the list attributes and outputs a list\n",
    "\n",
    "def entry_list(node):\n",
    "    l1 = []\n",
    "    for i in range(total_entries(node)):\n",
    "        if node[i].text == \"\\n          \":\n",
    "            ltemp = []\n",
    "            for j in range(total_entries(node[i])):\n",
    "                ltemp = ltemp + [node[i][j].attrib['name'] + \": \" + node[i][j].text]\n",
    "            l1.append(ltemp)    \n",
    "        else :\n",
    "            l1.append(node[i].text)\n",
    "    return l1\n",
    "     \n",
    "#     for i in range(total_entries(node)):\n",
    "#                 l = l + [(node[i].text)]\n",
    "#                 return l  \n",
    "#     else:\n",
    "#         return entry_list(node[0])"
   ]
  },
  {
   "cell_type": "code",
   "execution_count": 7,
   "metadata": {},
   "outputs": [],
   "source": [
    "# Converts the entire xml document to a dictionary containing different dataframes for each sheet attribute with keys as sheet names\n",
    "\n",
    "def data_xml(root, sheet_attrib):\n",
    "    \n",
    "#     Creating the dictionary format\n",
    "    keyList = []\n",
    "    n = total_entries(root[0])\n",
    "    for i in range(n):\n",
    "#         print(i)\n",
    "        if i>0:\n",
    "#             print(root[0][i].tag, \"\\n\", root[0][i].attrib, \"\\n\", root[0][i].text)\n",
    "            keyList = keyList + [column_name(root[0][i].attrib[sheet_attrib])]\n",
    "    dictionary = {}\n",
    "    for i in keyList: \n",
    "        dictionary[i] = 'None'\n",
    "#     print(dictionary)    \n",
    "#     Adding data to the dictionary\n",
    "    for i in range(n):\n",
    "        print(i)\n",
    "        if i>0:\n",
    "            currNode = root[0][i]\n",
    "#             print(currNode.attrib[sheet_attrib][0])\n",
    "            try:    \n",
    "                if dictionary[column_name(currNode.attrib[sheet_attrib])] == 'None':\n",
    "#                     print('empty' + currNode.attrib[sheet_attrib])\n",
    "                    columns = []\n",
    "                    values = []\n",
    "                    for key in currNode.attrib:\n",
    "                        if key == sheet_attrib:\n",
    "                            continue\n",
    "                        else:\n",
    "                            columns = columns + [key]\n",
    "                            values = values + [currNode.attrib[key]]\n",
    "                    for j in range(total_entries(root[0][i])):\n",
    "#                         print('yes')\n",
    "                        if(currNode[j].tag == 'p' or currNode[j].tag == '{raml21.xsd}p'):\n",
    "                            columns = columns + [currNode[j].attrib['name']]\n",
    "                            values = values + [currNode[j].text]\n",
    "                        elif (currNode[j].tag == 'list' or currNode[j].tag == '{raml21.xsd}list'):\n",
    "                            columns = columns + [currNode[j].attrib['name']]\n",
    "                            values = values + [entry_list(currNode[j])]\n",
    "\n",
    "                    df = pd.DataFrame([values], columns = columns)\n",
    "                    dictionary[column_name(currNode.attrib[sheet_attrib])] = df\n",
    "#                     print(total_entries(currNode)) \n",
    "#                     print((dictionary))\n",
    "            except:\n",
    "#                 print('filled' + root[0][i].attrib[sheet_attrib])\n",
    "                columns = []\n",
    "                values = []\n",
    "                for key in currNode.attrib:\n",
    "                    if key == sheet_attrib:\n",
    "                        continue\n",
    "                    else:\n",
    "                        columns = columns + [key]\n",
    "                        values = values + [currNode.attrib[key]]                    \n",
    "                for j in range(total_entries(root[0][i])):\n",
    "                    if(currNode[j].tag == 'p' or currNode[j].tag == '{raml21.xsd}p'):\n",
    "                        columns = columns + [currNode[j].attrib['name']]\n",
    "                        values = values + [currNode[j].text]\n",
    "                    elif (currNode[j].tag == 'list' or currNode[j].tag == '{raml21.xsd}list'):\n",
    "                        columns = columns + [currNode[j].attrib['name']]\n",
    "                        values = values + [entry_list(currNode[j])]\n",
    "                                               \n",
    "                df = pd.DataFrame([values], columns = columns)\n",
    "                dictionary[column_name(currNode.attrib[sheet_attrib])] = dictionary[column_name(currNode.attrib[sheet_attrib])].append(df)\n",
    "#                 print(total_entries(currNode)) \n",
    "#                 print((dictionary))\n",
    "    return excel_name(dictionary)"
   ]
  },
  {
   "cell_type": "code",
   "execution_count": 11,
   "metadata": {},
   "outputs": [],
   "source": [
    "# Converts an input xml file to output xlsx file given the sheet attribute for creating sheets in xlsx\n",
    "\n",
    "def xml_to_xlsx(input_file, sheet_attrib, output_file):\n",
    "    # Reading the xml as a tree object\n",
    "    \n",
    "    tree = etree.parse(input_file)\n",
    "    root = tree.getroot()\n",
    "    \n",
    "    dfs = data_xml(root, sheet_attrib)\n",
    "    print(dfs)\n",
    "    \n",
    "    # Opens the output file for writing\n",
    "\n",
    "    writer = pd.ExcelWriter(output_file + '.xlsx', engine = 'xlsxwriter')\n",
    "    \n",
    "    # Writing the data from the dictionary onto the excel sheet\n",
    "\n",
    "    for sheet_name in dfs.keys():\n",
    "        dfs[sheet_name].to_excel(writer, sheet_name = sheet_name, index = False)\n",
    "\n",
    "    writer.save()"
   ]
  },
  {
   "cell_type": "code",
   "execution_count": 12,
   "metadata": {},
   "outputs": [
    {
     "name": "stdout",
     "output_type": "stream",
     "text": [
      "0\n",
      "1\n",
      "2\n",
      "{'RNC':    version           distName       id\n",
      "0    RNC19  PLMN-PLMN/RNC-301   238054\n",
      "0  mcRNC19  PLMN-PLMN/RNC-302  1451579}\n"
     ]
    }
   ],
   "source": [
    "xml_to_xlsx('SRAT Hardware dump_1.xml', 'class', 'SRAT')"
   ]
  },
  {
   "cell_type": "code",
   "execution_count": null,
   "metadata": {},
   "outputs": [],
   "source": []
  }
 ],
 "metadata": {
  "kernelspec": {
   "display_name": "Python 3",
   "language": "python",
   "name": "python3"
  },
  "language_info": {
   "codemirror_mode": {
    "name": "ipython",
    "version": 3
   },
   "file_extension": ".py",
   "mimetype": "text/x-python",
   "name": "python",
   "nbconvert_exporter": "python",
   "pygments_lexer": "ipython3",
   "version": "3.7.4"
  }
 },
 "nbformat": 4,
 "nbformat_minor": 2
}
