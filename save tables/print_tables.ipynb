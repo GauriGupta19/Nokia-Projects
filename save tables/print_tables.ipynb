{
 "cells": [
  {
   "cell_type": "code",
   "execution_count": 2,
   "metadata": {},
   "outputs": [
    {
     "data": {
      "text/plain": [
       "'Authors: Gauri Gupta and Ritvik Kapila'"
      ]
     },
     "execution_count": 2,
     "metadata": {},
     "output_type": "execute_result"
    }
   ],
   "source": [
    "\"\"\"Authors: Gauri Gupta and Ritvik Kapila\"\"\""
   ]
  },
  {
   "cell_type": "code",
   "execution_count": 9,
   "metadata": {},
   "outputs": [],
   "source": [
    "import win32com.client\n",
    "from PIL import ImageGrab\n",
    "import os"
   ]
  },
  {
   "cell_type": "code",
   "execution_count": 10,
   "metadata": {},
   "outputs": [],
   "source": [
    "def save_ranges(InputFile_path, ImageFolder_path, sheet_dict):\n",
    "    excel = win32com.client.Dispatch('Excel.Application')\n",
    "    excel.visible = False\n",
    "    try:\n",
    "        wb = excel.Workbooks.Open(InputFile_path)\n",
    "    \n",
    "        try:\n",
    "            os.mkdir(ImageFolder_path)\n",
    "        except:\n",
    "            print('The folder already exists')\n",
    "        for sheet in sheet_dict:\n",
    "            ws = wb.Worksheets[sheet]\n",
    "            range_list = sheet_dict[sheet]\n",
    "            i=1\n",
    "            for size in range_list:\n",
    "        #         print(size)\n",
    "                ws.Range(ws.Cells(size[0][0], size[0][1]),ws.Cells(size[1][0], size[1][1])).CopyPicture(Format= 2)\n",
    "                img = ImageGrab.grabclipboard()\n",
    "                imgFile = os.path.join(ImageFolder_path, sheet+'_' +str(i)+ '.jpg')\n",
    "                img.save(imgFile)\n",
    "                i=i+1\n",
    "\n",
    "        wb.Close(SaveChanges = False, Filename = InputFile_path)\n",
    "    except FileNotFoundError as fnf_error:\n",
    "        print(fnf_error)"
   ]
  },
  {
   "cell_type": "code",
   "execution_count": 14,
   "metadata": {},
   "outputs": [
    {
     "name": "stdout",
     "output_type": "stream",
     "text": [
      "The folder already exists\n"
     ]
    }
   ],
   "source": [
    "save_ranges(r'C:\\Users\\gauri\\Desktop\\Nokia\\save tables\\Dynamic-Column-Headers-in-PowerQuery-2', r'C:\\Users\\gauri\\Desktop\\Nokia\\save tables\\Tables', \n",
    "            {'Case': [((4,2), (15,4)), ((4,6), (7,7)), ((4,9), (15,11))], 'Sheet1' : [((2,2),(7,4))]})\n"
   ]
  },
  {
   "cell_type": "code",
   "execution_count": 11,
   "metadata": {},
   "outputs": [
    {
     "name": "stdout",
     "output_type": "stream",
     "text": [
      "The folder already exists\n"
     ]
    }
   ],
   "source": [
    "save_ranges(r'C:\\Users\\gauri\\Desktop\\Nokia\\save tables\\Holdings', r'C:\\Users\\gauri\\Desktop\\Nokia\\save tables\\Tables', \n",
    "            { 'Sheet1' : [((1,1),(84, 24))]})\n"
   ]
  },
  {
   "cell_type": "code",
   "execution_count": null,
   "metadata": {},
   "outputs": [],
   "source": []
  }
 ],
 "metadata": {
  "kernelspec": {
   "display_name": "Python 3",
   "language": "python",
   "name": "python3"
  },
  "language_info": {
   "codemirror_mode": {
    "name": "ipython",
    "version": 3
   },
   "file_extension": ".py",
   "mimetype": "text/x-python",
   "name": "python",
   "nbconvert_exporter": "python",
   "pygments_lexer": "ipython3",
   "version": "3.6.10"
  }
 },
 "nbformat": 4,
 "nbformat_minor": 2
}
