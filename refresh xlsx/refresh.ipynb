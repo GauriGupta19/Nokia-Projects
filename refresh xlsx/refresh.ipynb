{
 "cells": [
  {
   "cell_type": "code",
   "execution_count": 1,
   "metadata": {},
   "outputs": [],
   "source": [
    "import xlwings as xw\n",
    "\n",
    "\n",
    "\n",
    "def refresh(workbook):\n",
    "\tapp = xw.App(visible=False)\n",
    "\twb=xw.Book(workbook)\n",
    "\twb.api.RefreshAll()\n",
    "\twb.save()\n",
    "\tapp.quit()\n",
    "\n",
    "\n",
    "\n",
    "\n",
    "if __name__ == '__main__':\n",
    "\tworkbook=\"2KR-PRE-POST-Template.xlsx\"\n",
    "\trefresh(workbook)"
   ]
  },
  {
   "cell_type": "code",
   "execution_count": null,
   "metadata": {},
   "outputs": [],
   "source": []
  }
 ],
 "metadata": {
  "kernelspec": {
   "display_name": "Python 3",
   "language": "python",
   "name": "python3"
  },
  "language_info": {
   "codemirror_mode": {
    "name": "ipython",
    "version": 3
   },
   "file_extension": ".py",
   "mimetype": "text/x-python",
   "name": "python",
   "nbconvert_exporter": "python",
   "pygments_lexer": "ipython3",
   "version": "3.7.4"
  }
 },
 "nbformat": 4,
 "nbformat_minor": 2
}
