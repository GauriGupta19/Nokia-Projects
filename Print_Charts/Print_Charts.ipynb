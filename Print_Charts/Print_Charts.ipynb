{
 "cells": [
  {
   "cell_type": "code",
   "execution_count": 55,
   "metadata": {},
   "outputs": [],
   "source": [
    "\"\"\"\n",
    "Authors: Gauri Gupta, Ritvik Kapila\n",
    "\"\"\"\n",
    "\n",
    "import win32com.client as win32\n",
    "from win32com.client import Dispatch\n",
    "import os"
   ]
  },
  {
   "cell_type": "code",
   "execution_count": 61,
   "metadata": {},
   "outputs": [],
   "source": [
    "def print_charts(InputFile_path, ChartsFolder_path, sheet_list):\n",
    "    try:\n",
    "        xlApp = Dispatch('Excel.Application')\n",
    "        workbook = xlApp.Workbooks.Open(InputFile_path)\n",
    "        # WARNING: The following line will cause the script to discard any unsaved changes in your workbook\n",
    "        xlApp.DisplayAlerts = False\n",
    "    except:\n",
    "        print(\"File not found.\")\n",
    "                       \n",
    "    try:\n",
    "        os.mkdir(ChartsFolder_path)\n",
    "    except:\n",
    "        print('The folder already exists')\n",
    "        \n",
    "    if sheet_list == []:\n",
    "        i=1\n",
    "        for sheet in workbook.Worksheets:\n",
    "            print('yo')\n",
    "            print(sheet.Name)\n",
    "            for chartObject in sheet.ChartObjects():\n",
    "                # print(sheet.Name + ':' + chartObject.Name)\n",
    "                chartObject.Chart.Export(ChartsFolder_path + '/' + str(i) + \".png\")\n",
    "                i=i+1\n",
    "                \n",
    "    else:\n",
    "        print('yes')\n",
    "        i=1\n",
    "        for j in sheet_list:\n",
    "            sheet = workbook.Worksheets[j]\n",
    "            print(sheet.Name)\n",
    "            for chartObject in sheet.ChartObjects():\n",
    "                print('yo1')\n",
    "                # print(sheet.Name + ':' + chartObject.Name)\n",
    "                chartObject.Chart.Export(ChartsFolder_path + '/' + str(i) + \".png\")\n",
    "                i=i+1\n",
    "    workbook.Close(SaveChanges = False, Filename = InputFile_path)"
   ]
  },
  {
   "cell_type": "code",
   "execution_count": 69,
   "metadata": {},
   "outputs": [
    {
     "name": "stdout",
     "output_type": "stream",
     "text": [
      "The folder already exists\n",
      "yo\n",
      "REPORT\n",
      "yo\n",
      "Parameters\n",
      "yo\n",
      "MapConfig\n",
      "yo\n",
      "AtxWorkbookState\n",
      "yo\n",
      "CrossTab Formatted Data\n",
      "yo\n",
      "ChartData\n",
      "yo\n",
      "TableR\n",
      "yo\n",
      "File_List\n",
      "yo\n",
      "ChartR1\n",
      "yo\n",
      "ChartR2\n",
      "yo\n",
      "ChartR3\n",
      "yo\n",
      "FCN01_FCN\n"
     ]
    }
   ],
   "source": [
    "# If sheet_lis is empty, charts in all the sheets will be saved. \n",
    "# If charts from only particular sheets have to be saved, specify the sheet index in the attribute sheet-list\n",
    "\n",
    "print_charts(r\"C:\\Users\\ASUS\\Documents\\Nokia\\xlsx_to_csv_and_print_charts\\Print_Charts\\CAN_4GLTE SSV Scanner Report V01R01.xlsx\", r\"C:\\Users\\ASUS\\Documents\\Nokia\\xlsx_to_csv_and_print_charts\\Print_Charts\\Charts\", sheet_list=[])"
   ]
  },
  {
   "cell_type": "code",
   "execution_count": null,
   "metadata": {},
   "outputs": [],
   "source": []
  }
 ],
 "metadata": {
  "kernelspec": {
   "display_name": "Python 3",
   "language": "python",
   "name": "python3"
  },
  "language_info": {
   "codemirror_mode": {
    "name": "ipython",
    "version": 3
   },
   "file_extension": ".py",
   "mimetype": "text/x-python",
   "name": "python",
   "nbconvert_exporter": "python",
   "pygments_lexer": "ipython3",
   "version": "3.7.4"
  }
 },
 "nbformat": 4,
 "nbformat_minor": 2
}
